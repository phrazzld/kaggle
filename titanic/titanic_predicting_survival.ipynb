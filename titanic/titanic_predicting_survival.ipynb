{
 "cells": [
  {
   "cell_type": "markdown",
   "metadata": {
    "deletable": true,
    "editable": true
   },
   "source": [
    "Imports!"
   ]
  },
  {
   "cell_type": "code",
   "execution_count": 66,
   "metadata": {
    "collapsed": false,
    "deletable": true,
    "editable": true
   },
   "outputs": [],
   "source": [
    "import numpy as np\n",
    "import pandas as pd\n",
    "import tensorflow as tf\n",
    "from keras.models import Sequential\n",
    "from keras.optimizers import SGD, RMSprop\n",
    "from keras.layers import Dense, Activation"
   ]
  },
  {
   "cell_type": "markdown",
   "metadata": {
    "collapsed": true,
    "deletable": true,
    "editable": true
   },
   "source": [
    "Get training and test data."
   ]
  },
  {
   "cell_type": "code",
   "execution_count": 67,
   "metadata": {
    "collapsed": true,
    "deletable": true,
    "editable": true
   },
   "outputs": [],
   "source": [
    "train = pd.read_csv('data/train.csv', index_col=0)\n",
    "test = pd.read_csv('data/test.csv', index_col=0)"
   ]
  },
  {
   "cell_type": "markdown",
   "metadata": {
    "deletable": true,
    "editable": true
   },
   "source": [
    "Define a function to strip away useless columns in our dataset."
   ]
  },
  {
   "cell_type": "code",
   "execution_count": 68,
   "metadata": {
    "collapsed": true,
    "deletable": true,
    "editable": true
   },
   "outputs": [],
   "source": [
    "def drop_useless_cols(df):\n",
    "    useful = ['Survived', 'Pclass', 'Sex', 'Age', 'Fare']\n",
    "    for col in list(df):\n",
    "        if col not in useful:\n",
    "            df = df.drop(col, axis=1)\n",
    "    return df"
   ]
  },
  {
   "cell_type": "markdown",
   "metadata": {
    "deletable": true,
    "editable": true
   },
   "source": [
    "What good's a function if you never use it?"
   ]
  },
  {
   "cell_type": "code",
   "execution_count": 69,
   "metadata": {
    "collapsed": true,
    "deletable": true,
    "editable": true
   },
   "outputs": [],
   "source": [
    "train = drop_useless_cols(train)\n",
    "test = drop_useless_cols(test)"
   ]
  },
  {
   "cell_type": "markdown",
   "metadata": {
    "deletable": true,
    "editable": true
   },
   "source": [
    "Always good to scope out null values so they don't blindside you down the road."
   ]
  },
  {
   "cell_type": "code",
   "execution_count": 70,
   "metadata": {
    "collapsed": false,
    "deletable": true,
    "editable": true
   },
   "outputs": [
    {
     "name": "stdout",
     "output_type": "stream",
     "text": [
      "Survived      0\n",
      "Pclass        0\n",
      "Sex           0\n",
      "Age         177\n",
      "Fare          0\n",
      "dtype: int64\n"
     ]
    }
   ],
   "source": [
    "print(train.isnull().sum())"
   ]
  },
  {
   "cell_type": "markdown",
   "metadata": {
    "deletable": true,
    "editable": true
   },
   "source": [
    "Let's explore the data with the aim of writing a function that cleans up those null Age values in a reasonable way."
   ]
  },
  {
   "cell_type": "code",
   "execution_count": 71,
   "metadata": {
    "collapsed": false,
    "deletable": true,
    "editable": true
   },
   "outputs": [
    {
     "name": "stdout",
     "output_type": "stream",
     "text": [
      "Pclass  Sex   \n",
      "1       female    35.0\n",
      "        male      40.0\n",
      "2       female    28.0\n",
      "        male      30.0\n",
      "3       female    21.5\n",
      "        male      25.0\n",
      "dtype: float64\n"
     ]
    }
   ],
   "source": [
    "s = train.groupby(['Pclass', 'Sex'])[['Age']].apply(np.nanmedian)\n",
    "print(s)"
   ]
  },
  {
   "cell_type": "markdown",
   "metadata": {
    "deletable": true,
    "editable": true
   },
   "source": [
    "I might just be navigating Pandas.Series all wrong, but if you group by a column with numerical values first and try to access elements of the Pandas.Series via bracket notation, you get funny results:"
   ]
  },
  {
   "cell_type": "code",
   "execution_count": 72,
   "metadata": {
    "collapsed": false,
    "deletable": true,
    "editable": true
   },
   "outputs": [
    {
     "name": "stdout",
     "output_type": "stream",
     "text": [
      "s[0], Expected (Actual) | 35.0 (35.0)\n",
      "s[1], Expected (Actual) | 40.0 (Sex\n",
      "female    35.0\n",
      "male      40.0\n",
      "dtype: float64)\n",
      "s[2], Expected (Actual) | 28.0 (Sex\n",
      "female    28.0\n",
      "male      30.0\n",
      "dtype: float64)\n",
      "s[3], Expected (Actual) | 30.0 (Sex\n",
      "female    21.5\n",
      "male      25.0\n",
      "dtype: float64)\n",
      "s[4], Expected (Actual) | 21.5 (21.5)\n",
      "s[5], Expected (Actual) | 25.0 (25.0)\n"
     ]
    }
   ],
   "source": [
    "print(\"s[0], Expected (Actual) | 35.0 ({0})\".format(s[0]))\n",
    "print(\"s[1], Expected (Actual) | 40.0 ({0})\".format(s[1]))\n",
    "print(\"s[2], Expected (Actual) | 28.0 ({0})\".format(s[2]))\n",
    "print(\"s[3], Expected (Actual) | 30.0 ({0})\".format(s[3]))\n",
    "print(\"s[4], Expected (Actual) | 21.5 ({0})\".format(s[4]))\n",
    "print(\"s[5], Expected (Actual) | 25.0 ({0})\".format(s[5]))"
   ]
  },
  {
   "cell_type": "markdown",
   "metadata": {
    "deletable": true,
    "editable": true
   },
   "source": [
    "Anyway, switching those columns around works for now."
   ]
  },
  {
   "cell_type": "code",
   "execution_count": 73,
   "metadata": {
    "collapsed": false,
    "deletable": true,
    "editable": true
   },
   "outputs": [
    {
     "name": "stdout",
     "output_type": "stream",
     "text": [
      "Sex     Pclass\n",
      "female  1         35.0\n",
      "        2         28.0\n",
      "        3         21.5\n",
      "male    1         40.0\n",
      "        2         30.0\n",
      "        3         25.0\n",
      "dtype: float64\n"
     ]
    }
   ],
   "source": [
    "s = train.groupby(['Sex', 'Pclass'])[['Age']].apply(np.nanmedian)\n",
    "print(s)"
   ]
  },
  {
   "cell_type": "markdown",
   "metadata": {
    "deletable": true,
    "editable": true
   },
   "source": [
    "Just to make sure..."
   ]
  },
  {
   "cell_type": "code",
   "execution_count": 74,
   "metadata": {
    "collapsed": false,
    "deletable": true,
    "editable": true
   },
   "outputs": [
    {
     "name": "stdout",
     "output_type": "stream",
     "text": [
      "s[0], Expected (Actual) | 35.0 (35.0)\n",
      "s[1], Expected (Actual) | 28.0 (28.0)\n",
      "s[2], Expected (Actual) | 21.5 (21.5)\n",
      "s[3], Expected (Actual) | 40.0 (40.0)\n",
      "s[4], Expected (Actual) | 30.0 (30.0)\n",
      "s[5], Expected (Actual) | 25.0 (25.0)\n"
     ]
    }
   ],
   "source": [
    "print(\"s[0], Expected (Actual) | 35.0 ({0})\".format(s[0]))\n",
    "print(\"s[1], Expected (Actual) | 28.0 ({0})\".format(s[1]))\n",
    "print(\"s[2], Expected (Actual) | 21.5 ({0})\".format(s[2]))\n",
    "print(\"s[3], Expected (Actual) | 40.0 ({0})\".format(s[3]))\n",
    "print(\"s[4], Expected (Actual) | 30.0 ({0})\".format(s[4]))\n",
    "print(\"s[5], Expected (Actual) | 25.0 ({0})\".format(s[5]))"
   ]
  },
  {
   "cell_type": "markdown",
   "metadata": {
    "deletable": true,
    "editable": true
   },
   "source": [
    "Awesome, everything's working properly. Let's use those values to denullify the Age column."
   ]
  },
  {
   "cell_type": "code",
   "execution_count": 75,
   "metadata": {
    "collapsed": false,
    "deletable": true,
    "editable": true
   },
   "outputs": [],
   "source": [
    "med_age_upperclass_woman = s[0]\n",
    "med_age_middleclass_woman = s[1]\n",
    "med_age_lowerclass_woman = s[2]\n",
    "med_age_upperclass_man = s[3]\n",
    "med_age_middleclass_man = s[4]\n",
    "med_age_lowerclass_man = s[5]\n",
    "\n",
    "def denullify_age_col(df):\n",
    "    df_ucw = df[(df['Sex'] == 'female') & (df['Pclass'] == 1)].fillna(med_age_upperclass_woman)\n",
    "    df_mcw = df[(df['Sex'] == 'female') & (df['Pclass'] == 2)].fillna(med_age_middleclass_woman)\n",
    "    df_lcw = df[(df['Sex'] == 'female') & (df['Pclass'] == 3)].fillna(med_age_lowerclass_woman)\n",
    "    df_ucm = df[(df['Sex'] == 'male') & (df['Pclass'] == 1)].fillna(med_age_upperclass_man)\n",
    "    df_mcm = df[(df['Sex'] == 'male') & (df['Pclass'] == 2)].fillna(med_age_middleclass_man)\n",
    "    df_lcm = df[(df['Sex'] == 'male') & (df['Pclass'] == 3)].fillna(med_age_lowerclass_man)\n",
    "    df = pd.concat([df_ucw, df_mcw, df_lcw, df_ucm, df_mcm, df_lcm], axis=0)\n",
    "    return df\n",
    "\n",
    "train = denullify_age_col(train)\n",
    "test = denullify_age_col(test)"
   ]
  },
  {
   "cell_type": "markdown",
   "metadata": {
    "deletable": true,
    "editable": true
   },
   "source": [
    "Apparently we need to get_dummies to deal with some of our datatype issues (methinks, anyway...)"
   ]
  },
  {
   "cell_type": "code",
   "execution_count": 76,
   "metadata": {
    "collapsed": false,
    "deletable": true,
    "editable": true
   },
   "outputs": [],
   "source": [
    "train = pd.get_dummies(train)\n",
    "test = pd.get_dummies(test)"
   ]
  },
  {
   "cell_type": "markdown",
   "metadata": {
    "deletable": true,
    "editable": true
   },
   "source": [
    "Now all we've got between us and building our models is the fact that Pclass is currently a quantitative column when it should be categorical."
   ]
  },
  {
   "cell_type": "code",
   "execution_count": 77,
   "metadata": {
    "collapsed": false,
    "deletable": true,
    "editable": true
   },
   "outputs": [],
   "source": [
    "def categorize_pclass(df):\n",
    "    df = pd.concat([df, pd.get_dummies(df['Pclass'], prefix='Pclass_')], axis=1).drop('Pclass', axis=1)\n",
    "    return df\n",
    "\n",
    "train = categorize_pclass(train)\n",
    "test = categorize_pclass(test)"
   ]
  },
  {
   "cell_type": "markdown",
   "metadata": {
    "deletable": true,
    "editable": true
   },
   "source": [
    "Final data input preparations."
   ]
  },
  {
   "cell_type": "code",
   "execution_count": 78,
   "metadata": {
    "collapsed": false,
    "deletable": true,
    "editable": true
   },
   "outputs": [
    {
     "data": {
      "text/html": [
       "<div>\n",
       "<table border=\"1\" class=\"dataframe\">\n",
       "  <thead>\n",
       "    <tr style=\"text-align: right;\">\n",
       "      <th></th>\n",
       "      <th>0</th>\n",
       "      <th>1</th>\n",
       "    </tr>\n",
       "    <tr>\n",
       "      <th>PassengerId</th>\n",
       "      <th></th>\n",
       "      <th></th>\n",
       "    </tr>\n",
       "  </thead>\n",
       "  <tbody>\n",
       "    <tr>\n",
       "      <th>2</th>\n",
       "      <td>0</td>\n",
       "      <td>1</td>\n",
       "    </tr>\n",
       "    <tr>\n",
       "      <th>4</th>\n",
       "      <td>0</td>\n",
       "      <td>1</td>\n",
       "    </tr>\n",
       "    <tr>\n",
       "      <th>12</th>\n",
       "      <td>0</td>\n",
       "      <td>1</td>\n",
       "    </tr>\n",
       "    <tr>\n",
       "      <th>32</th>\n",
       "      <td>0</td>\n",
       "      <td>1</td>\n",
       "    </tr>\n",
       "    <tr>\n",
       "      <th>53</th>\n",
       "      <td>0</td>\n",
       "      <td>1</td>\n",
       "    </tr>\n",
       "  </tbody>\n",
       "</table>\n",
       "</div>"
      ],
      "text/plain": [
       "             0  1\n",
       "PassengerId      \n",
       "2            0  1\n",
       "4            0  1\n",
       "12           0  1\n",
       "32           0  1\n",
       "53           0  1"
      ]
     },
     "execution_count": 78,
     "metadata": {},
     "output_type": "execute_result"
    }
   ],
   "source": [
    "y = pd.get_dummies(train['Survived'])\n",
    "y.head()"
   ]
  },
  {
   "cell_type": "code",
   "execution_count": 79,
   "metadata": {
    "collapsed": true,
    "deletable": true,
    "editable": true
   },
   "outputs": [],
   "source": [
    "X = train.drop('Survived', axis=1)"
   ]
  },
  {
   "cell_type": "markdown",
   "metadata": {
    "deletable": true,
    "editable": true
   },
   "source": [
    "Let's test some conventional machine learning models on this data and see what kind of accuracy we can get."
   ]
  },
  {
   "cell_type": "code",
   "execution_count": 80,
   "metadata": {
    "collapsed": false,
    "deletable": true,
    "editable": true
   },
   "outputs": [
    {
     "name": "stdout",
     "output_type": "stream",
     "text": [
      "Naive Bayes training accuracy: 78.33894500561168%\n",
      "SVM training accuracy: 89.67452300785635%\n"
     ]
    }
   ],
   "source": [
    "# Make sure our data is shaped right\n",
    "X_vals = X.values[:,0:6]\n",
    "y_vals = y.values[:,1]\n",
    "\n",
    "from sklearn.metrics import accuracy_score\n",
    "\n",
    "# Naive Bayes\n",
    "from sklearn.naive_bayes import GaussianNB\n",
    "clf_nb = GaussianNB()\n",
    "clf_nb.fit(X_vals, y_vals)\n",
    "pred_nb = clf_nb.predict(X_vals)\n",
    "acc_nb = accuracy_score(y_vals, pred_nb)\n",
    "print(\"Naive Bayes training accuracy: {0}%\".format(acc_nb*100.))\n",
    "\n",
    "# Support Vector Machines\n",
    "from sklearn.svm import SVC\n",
    "clf_svm = SVC()\n",
    "clf_svm.fit(X_vals, y_vals)\n",
    "pred_svm = clf_svm.predict(X_vals)\n",
    "acc_svm = accuracy_score(y_vals, pred_svm)\n",
    "print(\"SVM training accuracy: {0}%\".format(acc_svm*100.))\n",
    "\n",
    "# AdaBoosted Decision Trees"
   ]
  },
  {
   "cell_type": "markdown",
   "metadata": {
    "deletable": true,
    "editable": true
   },
   "source": [
    "Time for the neural net models."
   ]
  },
  {
   "cell_type": "code",
   "execution_count": 81,
   "metadata": {
    "collapsed": false,
    "deletable": true,
    "editable": true
   },
   "outputs": [
    {
     "data": {
      "text/plain": [
       "<keras.callbacks.History at 0x116598ef0>"
      ]
     },
     "execution_count": 81,
     "metadata": {},
     "output_type": "execute_result"
    }
   ],
   "source": [
    "model = Sequential()\n",
    "model.add(Dense(units=200, input_dim=X.shape[1]))\n",
    "model.add(Activation('relu'))\n",
    "model.add(Dense(units=200, input_dim=200))\n",
    "model.add(Activation('relu'))\n",
    "model.add(Dense(units=24, input_dim=200))\n",
    "model.add(Activation('relu'))\n",
    "model.add(Dense(units=2, input_dim=24))\n",
    "model.add(Activation('softmax'))\n",
    "\n",
    "optim = SGD(lr=0.001)\n",
    "\n",
    "model.compile(loss='categorical_crossentropy', optimizer=optim, metrics=['accuracy'])\n",
    "\n",
    "model.fit(X.values, y.values, epochs=500, verbose=0)"
   ]
  },
  {
   "cell_type": "code",
   "execution_count": 82,
   "metadata": {
    "collapsed": false,
    "deletable": true,
    "editable": true
   },
   "outputs": [
    {
     "name": "stdout",
     "output_type": "stream",
     "text": [
      " 32/891 [>.............................] - ETA: 0sKeras neural net accuracy: 77.21661057001279%\n"
     ]
    }
   ],
   "source": [
    "print(\"Keras neural net accuracy: {0}%\".format(model.evaluate(X.values, y.values)[1]*100.))"
   ]
  },
  {
   "cell_type": "code",
   "execution_count": 83,
   "metadata": {
    "collapsed": false,
    "deletable": true,
    "editable": true
   },
   "outputs": [
    {
     "name": "stdout",
     "output_type": "stream",
     "text": [
      "\r",
      " 32/418 [=>............................] - ETA: 0s"
     ]
    }
   ],
   "source": [
    "p_sub = model.predict_classes(test.values)\n",
    "\n",
    "predictions = pd.DataFrame()\n",
    "predictions['PassengerId'] = test.index\n",
    "predictions['Survived'] = p_sub"
   ]
  },
  {
   "cell_type": "markdown",
   "metadata": {
    "deletable": true,
    "editable": true
   },
   "source": [
    "Make sure our predictions dataframe has the right dimensions."
   ]
  },
  {
   "cell_type": "code",
   "execution_count": 84,
   "metadata": {
    "collapsed": false,
    "deletable": true,
    "editable": true
   },
   "outputs": [
    {
     "data": {
      "text/plain": [
       "(418, 2)"
      ]
     },
     "execution_count": 84,
     "metadata": {},
     "output_type": "execute_result"
    }
   ],
   "source": [
    "predictions.shape"
   ]
  },
  {
   "cell_type": "markdown",
   "metadata": {
    "deletable": true,
    "editable": true
   },
   "source": [
    "Save predictions to a local csv file."
   ]
  },
  {
   "cell_type": "code",
   "execution_count": 85,
   "metadata": {
    "collapsed": true,
    "deletable": true,
    "editable": true
   },
   "outputs": [],
   "source": [
    "predictions.to_csv('predictions.csv', index=False)"
   ]
  }
 ],
 "metadata": {
  "kernelspec": {
   "display_name": "Python 3",
   "language": "python",
   "name": "python3"
  },
  "language_info": {
   "codemirror_mode": {
    "name": "ipython",
    "version": 3
   },
   "file_extension": ".py",
   "mimetype": "text/x-python",
   "name": "python",
   "nbconvert_exporter": "python",
   "pygments_lexer": "ipython3",
   "version": "3.6.0"
  }
 },
 "nbformat": 4,
 "nbformat_minor": 2
}
