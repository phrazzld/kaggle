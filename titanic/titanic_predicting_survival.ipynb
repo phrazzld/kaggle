{
 "cells": [
  {
   "cell_type": "markdown",
   "metadata": {
    "deletable": true,
    "editable": true
   },
   "source": [
    "Imports!"
   ]
  },
  {
   "cell_type": "code",
   "execution_count": 54,
   "metadata": {
    "collapsed": false,
    "deletable": true,
    "editable": true
   },
   "outputs": [],
   "source": [
    "import numpy as np\n",
    "import pandas as pd\n",
    "import matplotlib.pyplot as plt\n",
    "import tensorflow as tf\n",
    "from keras.models import Sequential\n",
    "from keras.optimizers import SGD, RMSprop\n",
    "from keras.layers import Dense, Activation"
   ]
  },
  {
   "cell_type": "markdown",
   "metadata": {
    "collapsed": true,
    "deletable": true,
    "editable": true
   },
   "source": [
    "Get training and test data."
   ]
  },
  {
   "cell_type": "code",
   "execution_count": 55,
   "metadata": {
    "collapsed": true,
    "deletable": true,
    "editable": true
   },
   "outputs": [],
   "source": [
    "train = pd.read_csv('data/train.csv', index_col=0)\n",
    "test = pd.read_csv('data/test.csv', index_col=0)"
   ]
  },
  {
   "cell_type": "markdown",
   "metadata": {
    "deletable": true,
    "editable": true
   },
   "source": [
    "Define a function to strip away useless columns in our dataset."
   ]
  },
  {
   "cell_type": "code",
   "execution_count": 56,
   "metadata": {
    "collapsed": true,
    "deletable": true,
    "editable": true
   },
   "outputs": [],
   "source": [
    "def drop_useless_cols(df):\n",
    "    useful = ['Survived', 'Pclass', 'Sex', 'Age', 'Fare']\n",
    "    for col in list(df):\n",
    "        if col not in useful:\n",
    "            df = df.drop(col, axis=1)\n",
    "    return df"
   ]
  },
  {
   "cell_type": "markdown",
   "metadata": {
    "deletable": true,
    "editable": true
   },
   "source": [
    "What good's a function if you never use it?"
   ]
  },
  {
   "cell_type": "code",
   "execution_count": 57,
   "metadata": {
    "collapsed": true,
    "deletable": true,
    "editable": true
   },
   "outputs": [],
   "source": [
    "train = drop_useless_cols(train)\n",
    "test = drop_useless_cols(test)"
   ]
  },
  {
   "cell_type": "markdown",
   "metadata": {
    "deletable": true,
    "editable": true
   },
   "source": [
    "Always good to scope out null values so they don't blindside you down the road."
   ]
  },
  {
   "cell_type": "code",
   "execution_count": 58,
   "metadata": {
    "collapsed": false,
    "deletable": true,
    "editable": true
   },
   "outputs": [
    {
     "name": "stdout",
     "output_type": "stream",
     "text": [
      "Survived      0\n",
      "Pclass        0\n",
      "Sex           0\n",
      "Age         177\n",
      "Fare          0\n",
      "dtype: int64\n"
     ]
    }
   ],
   "source": [
    "print(train.isnull().sum())"
   ]
  },
  {
   "cell_type": "markdown",
   "metadata": {
    "deletable": true,
    "editable": true
   },
   "source": [
    "Let's explore the data with the aim of writing a function that cleans up those null Age values in a reasonable way."
   ]
  },
  {
   "cell_type": "code",
   "execution_count": 59,
   "metadata": {
    "collapsed": false,
    "deletable": true,
    "editable": true
   },
   "outputs": [],
   "source": [
    "s = train.groupby(['Sex', 'Pclass'])[['Age']].apply(np.nanmedian)"
   ]
  },
  {
   "cell_type": "markdown",
   "metadata": {
    "deletable": true,
    "editable": true
   },
   "source": [
    "Let's denullify the age column."
   ]
  },
  {
   "cell_type": "code",
   "execution_count": 60,
   "metadata": {
    "collapsed": false,
    "deletable": true,
    "editable": true
   },
   "outputs": [],
   "source": [
    "med_age_upperclass_woman = s[0]\n",
    "med_age_middleclass_woman = s[1]\n",
    "med_age_lowerclass_woman = s[2]\n",
    "med_age_upperclass_man = s[3]\n",
    "med_age_middleclass_man = s[4]\n",
    "med_age_lowerclass_man = s[5]\n",
    "\n",
    "def denullify_age_col(df):\n",
    "    df_ucw = df[(df['Sex'] == 'female') & (df['Pclass'] == 1)].fillna(med_age_upperclass_woman)\n",
    "    df_mcw = df[(df['Sex'] == 'female') & (df['Pclass'] == 2)].fillna(med_age_middleclass_woman)\n",
    "    df_lcw = df[(df['Sex'] == 'female') & (df['Pclass'] == 3)].fillna(med_age_lowerclass_woman)\n",
    "    df_ucm = df[(df['Sex'] == 'male') & (df['Pclass'] == 1)].fillna(med_age_upperclass_man)\n",
    "    df_mcm = df[(df['Sex'] == 'male') & (df['Pclass'] == 2)].fillna(med_age_middleclass_man)\n",
    "    df_lcm = df[(df['Sex'] == 'male') & (df['Pclass'] == 3)].fillna(med_age_lowerclass_man)\n",
    "    df = pd.concat([df_ucw, df_mcw, df_lcw, df_ucm, df_mcm, df_lcm], axis=0)\n",
    "    return df\n",
    "\n",
    "train = denullify_age_col(train)\n",
    "test = denullify_age_col(test)"
   ]
  },
  {
   "cell_type": "markdown",
   "metadata": {
    "deletable": true,
    "editable": true
   },
   "source": [
    "Apparently we need to get_dummies to deal with some of our datatype issues (methinks, anyway...)"
   ]
  },
  {
   "cell_type": "code",
   "execution_count": 61,
   "metadata": {
    "collapsed": false,
    "deletable": true,
    "editable": true
   },
   "outputs": [],
   "source": [
    "train = pd.get_dummies(train)\n",
    "test = pd.get_dummies(test)"
   ]
  },
  {
   "cell_type": "markdown",
   "metadata": {
    "deletable": true,
    "editable": true
   },
   "source": [
    "Now all we've got between us and building our models is the fact that Pclass is currently a quantitative column when it should be categorical."
   ]
  },
  {
   "cell_type": "code",
   "execution_count": 62,
   "metadata": {
    "collapsed": false,
    "deletable": true,
    "editable": true
   },
   "outputs": [],
   "source": [
    "def categorize_pclass(df):\n",
    "    df = pd.concat([df, pd.get_dummies(df['Pclass'], prefix='Pclass_')], axis=1).drop('Pclass', axis=1)\n",
    "    return df\n",
    "\n",
    "train = categorize_pclass(train)\n",
    "test = categorize_pclass(test)"
   ]
  },
  {
   "cell_type": "markdown",
   "metadata": {
    "deletable": true,
    "editable": true
   },
   "source": [
    "Final data input preparations."
   ]
  },
  {
   "cell_type": "code",
   "execution_count": 63,
   "metadata": {
    "collapsed": false,
    "deletable": true,
    "editable": true
   },
   "outputs": [],
   "source": [
    "y = pd.get_dummies(train['Survived'])"
   ]
  },
  {
   "cell_type": "code",
   "execution_count": 64,
   "metadata": {
    "collapsed": false,
    "deletable": true,
    "editable": true
   },
   "outputs": [],
   "source": [
    "X = train.drop('Survived', axis=1)"
   ]
  },
  {
   "cell_type": "markdown",
   "metadata": {
    "deletable": true,
    "editable": true
   },
   "source": [
    "Let's test some conventional machine learning models on this data and see what kind of accuracy we can get."
   ]
  },
  {
   "cell_type": "code",
   "execution_count": 65,
   "metadata": {
    "collapsed": false,
    "deletable": true,
    "editable": true
   },
   "outputs": [],
   "source": [
    "# Make sure our data is shaped right for sklearn\n",
    "X_vals = X.values # just the features columns\n",
    "y_vals = y.values[:,1] # just the \"Survived\" column"
   ]
  },
  {
   "cell_type": "code",
   "execution_count": 66,
   "metadata": {
    "collapsed": false,
    "deletable": true,
    "editable": true
   },
   "outputs": [
    {
     "name": "stdout",
     "output_type": "stream",
     "text": [
      "Naive Bayes training accuracy: 77.77777777777779%\n",
      "SVM training accuracy: 89.00112233445566%\n",
      "AdaBoosted DecisionTree accuracy: 97.75533108866442%\n"
     ]
    }
   ],
   "source": [
    "from sklearn.metrics import accuracy_score\n",
    "\n",
    "# Naive Bayes\n",
    "from sklearn.naive_bayes import GaussianNB\n",
    "clf_nb = GaussianNB()\n",
    "clf_nb.fit(X_vals, y_vals)\n",
    "pred_nb = clf_nb.predict(X_vals)\n",
    "acc_nb = accuracy_score(y_vals, pred_nb)\n",
    "print(\"Naive Bayes training accuracy: {0}%\".format(acc_nb*100.))\n",
    "\n",
    "# Support Vector Machines\n",
    "from sklearn.svm import SVC\n",
    "clf_svm = SVC()\n",
    "clf_svm.fit(X_vals, y_vals)\n",
    "pred_svm = clf_svm.predict(X_vals)\n",
    "acc_svm = accuracy_score(y_vals, pred_svm)\n",
    "print(\"SVM training accuracy: {0}%\".format(acc_svm*100.))\n",
    "\n",
    "# AdaBoosted Decision Trees\n",
    "from sklearn.tree import DecisionTreeClassifier\n",
    "from sklearn.ensemble import AdaBoostClassifier\n",
    "clf_ada_dtc = AdaBoostClassifier(base_estimator=DecisionTreeClassifier(),\n",
    "                                 n_estimators=50,\n",
    "                                 learning_rate=1.,\n",
    "                                 algorithm='SAMME.R')\n",
    "clf_ada_dtc.fit(X_vals, y_vals)\n",
    "pred_ada_dtc = clf_ada_dtc.predict(X_vals)\n",
    "acc_ada_dtc = accuracy_score(y_vals, pred_ada_dtc)\n",
    "print(\"AdaBoosted DecisionTree accuracy: {0}%\".format(acc_ada_dtc*100.))"
   ]
  },
  {
   "cell_type": "markdown",
   "metadata": {
    "deletable": true,
    "editable": true
   },
   "source": [
    "Time for the neural net models."
   ]
  },
  {
   "cell_type": "code",
   "execution_count": 67,
   "metadata": {
    "collapsed": false,
    "deletable": true,
    "editable": true,
    "scrolled": true
   },
   "outputs": [],
   "source": [
    "model = Sequential()\n",
    "model.add(Dense(units=200, input_shape=X_vals.shape[1:]))\n",
    "model.add(Activation('relu'))\n",
    "model.add(Dense(units=200))\n",
    "model.add(Activation('relu'))\n",
    "model.add(Dense(units=24))\n",
    "model.add(Activation('relu'))\n",
    "model.add(Dense(units=2))\n",
    "model.add(Activation('softmax'))\n",
    "\n",
    "optim = SGD(lr=0.001)\n",
    "\n",
    "model.compile(loss='categorical_crossentropy', optimizer=optim, metrics=['accuracy'])"
   ]
  },
  {
   "cell_type": "code",
   "execution_count": 68,
   "metadata": {
    "collapsed": false,
    "deletable": true,
    "editable": true
   },
   "outputs": [
    {
     "name": "stdout",
     "output_type": "stream",
     "text": [
      " 32/891 [>.............................] - ETA: 0s\n",
      "\n",
      "Keras neural net accuracy: 81.70594839268395%\n",
      " 32/891 [>.............................] - ETA: 0s"
     ]
    },
    {
     "data": {
      "text/plain": [
       "[0.41467290715336397, 0.81705948392683947]"
      ]
     },
     "execution_count": 68,
     "metadata": {},
     "output_type": "execute_result"
    }
   ],
   "source": [
    "history = model.fit(X_vals, y.values, validation_split=0.33, epochs=1000, batch_size=16, verbose=0)\n",
    "\n",
    "print(\"\\n\\nKeras neural net accuracy: {0}%\".format(model.evaluate(X_vals, y.values)[1]*100.))\n",
    "model.evaluate(X_vals, y.values)"
   ]
  },
  {
   "cell_type": "code",
   "execution_count": 69,
   "metadata": {
    "collapsed": false,
    "deletable": true,
    "editable": true
   },
   "outputs": [
    {
     "data": {
      "image/png": "[encoded data removed]",
      "text/plain": [
       "<matplotlib.figure.Figure at 0x11c1e32b0>"
      ]
     },
     "metadata": {},
     "output_type": "display_data"
    },
    {
     "data": {
      "image/png": "[encoded data removed]",
      "text/plain": [
       "<matplotlib.figure.Figure at 0x11cdd7240>"
      ]
     },
     "metadata": {},
     "output_type": "display_data"
    }
   ],
   "source": [
    "# summarize history for accuracy\n",
    "plt.plot(history.history['acc'])\n",
    "plt.plot(history.history['val_acc'])\n",
    "plt.title('model accuracy')\n",
    "plt.ylabel('accuracy')\n",
    "plt.xlabel('epoch')\n",
    "plt.legend(['train', 'test'], loc='upper left')\n",
    "plt.show()\n",
    "# summarize history for loss\n",
    "plt.plot(history.history['loss'])\n",
    "plt.plot(history.history['val_loss'])\n",
    "plt.title('model loss')\n",
    "plt.ylabel('loss')\n",
    "plt.xlabel('epoch')\n",
    "plt.legend(['train', 'test'], loc='upper left')\n",
    "plt.show()"
   ]
  },
  {
   "cell_type": "code",
   "execution_count": 70,
   "metadata": {
    "collapsed": false,
    "deletable": true,
    "editable": true
   },
   "outputs": [
    {
     "name": "stdout",
     "output_type": "stream",
     "text": [
      "\r",
      " 32/418 [=>............................] - ETA: 0s"
     ]
    }
   ],
   "source": [
    "p_sub = model.predict_classes(test.values)\n",
    "\n",
    "predictions = pd.DataFrame()\n",
    "predictions['PassengerId'] = test.index\n",
    "predictions['Survived'] = p_sub"
   ]
  },
  {
   "cell_type": "markdown",
   "metadata": {
    "deletable": true,
    "editable": true
   },
   "source": [
    "Make sure our predictions dataframe has the right dimensions (that's 418x2)"
   ]
  },
  {
   "cell_type": "code",
   "execution_count": 71,
   "metadata": {
    "collapsed": false,
    "deletable": true,
    "editable": true
   },
   "outputs": [
    {
     "data": {
      "text/plain": [
       "(418, 2)"
      ]
     },
     "execution_count": 71,
     "metadata": {},
     "output_type": "execute_result"
    }
   ],
   "source": [
    "predictions.shape"
   ]
  },
  {
   "cell_type": "markdown",
   "metadata": {
    "deletable": true,
    "editable": true
   },
   "source": [
    "Save predictions to a local csv file."
   ]
  },
  {
   "cell_type": "code",
   "execution_count": 72,
   "metadata": {
    "collapsed": true,
    "deletable": true,
    "editable": true
   },
   "outputs": [],
   "source": [
    "predictions.to_csv('predictions.csv', index=False)"
   ]
  }
 ],
 "metadata": {
  "kernelspec": {
   "display_name": "Python 3",
   "language": "python",
   "name": "python3"
  },
  "language_info": {
   "codemirror_mode": {
    "name": "ipython",
    "version": 3
   },
   "file_extension": ".py",
   "mimetype": "text/x-python",
   "name": "python",
   "nbconvert_exporter": "python",
   "pygments_lexer": "ipython3",
   "version": "3.6.0"
  }
 },
 "nbformat": 4,
 "nbformat_minor": 2
}
